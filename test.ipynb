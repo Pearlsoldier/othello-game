{
 "cells": [
  {
   "cell_type": "code",
   "execution_count": 3,
   "metadata": {},
   "outputs": [],
   "source": [
    "n = 10"
   ]
  },
  {
   "cell_type": "code",
   "execution_count": 5,
   "metadata": {},
   "outputs": [
    {
     "name": "stdout",
     "output_type": "stream",
     "text": [
      "['-']\n"
     ]
    }
   ],
   "source": [
    "for i in range(n):\n",
    "    list(\"-\")\n",
    "print(ret)"
   ]
  },
  {
   "cell_type": "code",
   "execution_count": 16,
   "metadata": {},
   "outputs": [
    {
     "name": "stdout",
     "output_type": "stream",
     "text": [
      "-\n",
      "['-', '-', '-', '-', '-', '-', '-', '-', '-']\n"
     ]
    }
   ],
   "source": [
    "\n",
    "column= []\n",
    "row = []\n",
    "n = 9\n",
    "[row.append(\"-\") for j in range(n)]\n",
    "print(row[0])\n",
    "[column.append(row)for i in range(n)]\n",
    "# print(*column, sep='\\n')\n",
    "\n",
    "[column[0] for i in range(0, 9)]\n",
    "print(column[0])\n"
   ]
  },
  {
   "cell_type": "markdown",
   "metadata": {},
   "source": []
  },
  {
   "cell_type": "code",
   "execution_count": 1,
   "metadata": {},
   "outputs": [
    {
     "name": "stdout",
     "output_type": "stream",
     "text": [
      "[3, 3, 3, 3, 3, 3, 3, 3, 3, 3, 3, 0, 0, 0, 0, 0, 0, 0, 0, 3, 3, 0, 0, 0, 0, 0, 0, 0, 0, 3, 3, 0, 0, 0, 0, 0, 0, 0, 0, 3, 3, 0, 0, 0, 1, 2, 0, 0, 0, 3, 3, 0, 0, 0, 2, 1, 0, 0, 0, 3, 3, 0, 0, 0, 0, 0, 0, 0, 0, 3, 3, 0, 0, 0, 0, 0, 0, 0, 0, 3, 3, 0, 0, 0, 0, 0, 0, 0, 0, 3, 3, 3, 3, 3, 3, 3, 3, 3, 3, 3]\n"
     ]
    },
    {
     "data": {
      "text/plain": [
       "<__main__.ReversiModel at 0x106317e00>"
      ]
     },
     "execution_count": 1,
     "metadata": {},
     "output_type": "execute_result"
    }
   ],
   "source": [
    "class ReversiModel:\n",
    "    empty = 0\n",
    "    black = 1\n",
    "    white = 2\n",
    "    wall = 3\n",
    "\n",
    "    def __init__(self):\n",
    "        \"\"\"\n",
    "        初期化\n",
    "        \"\"\"\n",
    "        self.board = [self.empty] * 100\n",
    "\n",
    "        self.board[44] = self.black\n",
    "        self.board[55] = self.black\n",
    "        self.board[54] = self.white\n",
    "        self.board[45] = self.white\n",
    "\n",
    "        for i in range(10):\n",
    "            self.board[i] = self.wall\n",
    "            self.board[90 + i] = self.wall\n",
    "            self.board[10 * i] = self.wall\n",
    "            self.board[10 * i + 9] = self.wall\n",
    "\n",
    "\n",
    "\n",
    "        print(self.board)\n",
    "\n",
    "ReversiModel()\n",
    "\n"
   ]
  },
  {
   "cell_type": "code",
   "execution_count": null,
   "metadata": {},
   "outputs": [],
   "source": []
  }
 ],
 "metadata": {
  "kernelspec": {
   "display_name": ".venv",
   "language": "python",
   "name": "python3"
  },
  "language_info": {
   "codemirror_mode": {
    "name": "ipython",
    "version": 3
   },
   "file_extension": ".py",
   "mimetype": "text/x-python",
   "name": "python",
   "nbconvert_exporter": "python",
   "pygments_lexer": "ipython3",
   "version": "3.13.2"
  }
 },
 "nbformat": 4,
 "nbformat_minor": 2
}
