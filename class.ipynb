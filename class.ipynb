{
 "cells": [
  {
   "cell_type": "code",
   "execution_count": 3,
   "metadata": {},
   "outputs": [],
   "source": [
    "class Disc():\n",
    "    \"\"\"\n",
    "    石クラス\n",
    "    白石、黒石の親になるクラス\n",
    "    \"\"\"\n",
    "    def __init__(self):\n",
    "        pass\n",
    "    # memo\n",
    "    # 石を置いたときに、8方向を見る。\n",
    "    # 置いたとこを絶対値0として、左方向、上方向を-,右方向、下方向を+とする\n",
    "\n",
    "\n",
    "\n",
    "\n",
    "class White_Disc(Disc):\n",
    "    \"\"\"\n",
    "    石クラスを継承した、白石\n",
    "    \"\"\"\n",
    "    # memo\n",
    "    # 白石独自、黒石を挟めば白石に変更する\n",
    "\n",
    "class Black_Disc(Disc):\n",
    "    \"\"\"\n",
    "    石クラスを継承した、黒石\n",
    "    \"\"\"\n",
    "    # memo\n",
    "    # 黒石独自、白石を挟めば黒石に変更する"
   ]
  },
  {
   "cell_type": "code",
   "execution_count": 2,
   "metadata": {},
   "outputs": [
    {
     "ename": "TypeError",
     "evalue": "'list' object is not callable",
     "output_type": "error",
     "traceback": [
      "\u001b[0;31m---------------------------------------------------------------------------\u001b[0m",
      "\u001b[0;31mTypeError\u001b[0m                                 Traceback (most recent call last)",
      "Cell \u001b[0;32mIn[2], line 16\u001b[0m\n\u001b[1;32m     11\u001b[0m         [\u001b[38;5;28mself\u001b[39m\u001b[38;5;241m.\u001b[39mborad([])\u001b[38;5;28;01mfor\u001b[39;00m _ \u001b[38;5;129;01min\u001b[39;00m \u001b[38;5;28mrange\u001b[39m(x)]\n\u001b[1;32m     12\u001b[0m         \u001b[38;5;28mprint\u001b[39m(\u001b[38;5;28mself\u001b[39m\u001b[38;5;241m.\u001b[39mborad)\n\u001b[0;32m---> 16\u001b[0m \u001b[43mBorad\u001b[49m\u001b[43m(\u001b[49m\u001b[43m)\u001b[49m\n",
      "Cell \u001b[0;32mIn[2], line 11\u001b[0m, in \u001b[0;36mBorad.__init__\u001b[0;34m(self)\u001b[0m\n\u001b[1;32m      9\u001b[0m \u001b[38;5;28mself\u001b[39m\u001b[38;5;241m.\u001b[39mborad \u001b[38;5;241m=\u001b[39m []\n\u001b[1;32m     10\u001b[0m x \u001b[38;5;241m=\u001b[39m \u001b[38;5;241m10\u001b[39m\n\u001b[0;32m---> 11\u001b[0m [\u001b[38;5;28;43mself\u001b[39;49m\u001b[38;5;241;43m.\u001b[39;49m\u001b[43mborad\u001b[49m\u001b[43m(\u001b[49m\u001b[43m[\u001b[49m\u001b[43m]\u001b[49m\u001b[43m)\u001b[49m\u001b[38;5;28;01mfor\u001b[39;00m _ \u001b[38;5;129;01min\u001b[39;00m \u001b[38;5;28mrange\u001b[39m(x)]\n\u001b[1;32m     12\u001b[0m \u001b[38;5;28mprint\u001b[39m(\u001b[38;5;28mself\u001b[39m\u001b[38;5;241m.\u001b[39mborad)\n",
      "\u001b[0;31mTypeError\u001b[0m: 'list' object is not callable"
     ]
    }
   ],
   "source": [
    "class Borad():\n",
    "    \"\"\"\n",
    "    10*10のマスを用意\n",
    "    内側の8*8を盤面\n",
    "    X行: A-H ([0]行目[9]行目)\n",
    "    Y行: 1-8\n",
    "    \"\"\"\n",
    "    def __init__(self):\n",
    "        self.borad = []\n",
    "        x = 10\n",
    "        [self.borad([])for _ in range(x)]\n",
    "        print(self.borad)\n",
    "\n",
    "        \n",
    "        \n",
    "Borad()"
   ]
  },
  {
   "cell_type": "markdown",
   "metadata": {},
   "source": []
  },
  {
   "cell_type": "code",
   "execution_count": null,
   "metadata": {},
   "outputs": [],
   "source": []
  }
 ],
 "metadata": {
  "kernelspec": {
   "display_name": ".venv",
   "language": "python",
   "name": ".venv"
  },
  "language_info": {
   "codemirror_mode": {
    "name": "ipython",
    "version": 3
   },
   "file_extension": ".py",
   "mimetype": "text/x-python",
   "name": "python",
   "nbconvert_exporter": "python",
   "pygments_lexer": "ipython3",
   "version": "3.13.2"
  }
 },
 "nbformat": 4,
 "nbformat_minor": 2
}
