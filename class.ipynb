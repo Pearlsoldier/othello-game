{
 "cells": [
  {
   "cell_type": "code",
   "execution_count": 5,
   "metadata": {},
   "outputs": [
    {
     "name": "stdout",
     "output_type": "stream",
     "text": [
      "⚪ ️\n",
      "⚫ ️\n"
     ]
    }
   ],
   "source": [
    "class Disc():\n",
    "    \"\"\"\n",
    "    石クラス\n",
    "    白石、黒石の親になるクラス\n",
    "    \"\"\"\n",
    "    def __init__(self, coler):\n",
    "        self.coler = coler\n",
    "        \n",
    "    # memo\n",
    "    # 石を置いたときに、8方向を見る。\n",
    "    # 置いたとこを絶対値0として、左方向、上方向を-,右方向、下方向を+とする\n",
    "wd = Disc(\"⚪️\") #白丸\n",
    "print(*wd.coler)\n",
    "\n",
    "bd  = Disc(\"⚫️\") #黒丸\n",
    "print(*bd.coler)\n"
   ]
  },
  {
   "cell_type": "code",
   "execution_count": 13,
   "metadata": {},
   "outputs": [
    {
     "name": "stdout",
     "output_type": "stream",
     "text": [
      "22 白丸\n"
     ]
    }
   ],
   "source": [
    "color = \"白丸\"\n",
    "class Player():\n",
    "    def __init__(self):\n",
    "        pass\n",
    "\n",
    "    def move(self, input, color):\n",
    "        print(input, color)\n",
    "\n",
    "player1 = Player()\n",
    "player1.move(input(), color)\n",
    "\n",
    "    "
   ]
  },
  {
   "cell_type": "code",
   "execution_count": 140,
   "metadata": {},
   "outputs": [
    {
     "data": {
      "text/plain": [
       "[[0, 'A', 'B', 'C', 'D', 'E', 'F', 'G', 'H', 0],\n",
       " [1, '-', '-', '-', '-', '-', '-', '-', '-', 1],\n",
       " [2, '-', '-', '-', '-', '-', '-', '-', '-', 2],\n",
       " [3, '-', '-', '-', '-', '-', '-', '-', '-', 3],\n",
       " [4, '-', '-', '-', '-', '-', '-', '-', '-', 4],\n",
       " [5, '-', '-', '-', '-', '-', '-', '-', '-', 5],\n",
       " [6, '-', '-', '-', '-', '-', '-', '-', '-', 6],\n",
       " [7, '-', '-', '-', '-', '-', '-', '-', '-', 7],\n",
       " [8, '-', '-', '-', '-', '-', '-', '-', '-', 8],\n",
       " [0, 'A', 'B', 'C', 'D', 'E', 'F', 'G', 'H', 0]]"
      ]
     },
     "execution_count": 140,
     "metadata": {},
     "output_type": "execute_result"
    }
   ],
   "source": [
    "import string\n",
    "uppercase_letter = list(string.ascii_uppercase)\n",
    "line = uppercase_letter[0:8]\n",
    "\n",
    "class Board():\n",
    "    \"\"\"git s\n",
    "    10*10のマスを用意\n",
    "    内側の8*8を盤面\n",
    "    X行: A-H ([0]行目[9]行目)\n",
    "    Y行: 1-8\n",
    "    \"\"\"\n",
    "    def __init__(self):\n",
    "        self._row = []\n",
    "        x = 10\n",
    "        for i in range(x):\n",
    "            self._row.append([])\n",
    "            for j in range(x):\n",
    "                self._row[i].append(\"-\")\n",
    "                self._row[i][0] = i\n",
    "            for t in range(x):\n",
    "                self._row[i][j] = i\n",
    "\n",
    "        zero_line = []\n",
    "        for i in range(x):\n",
    "            zero_line.append(0)\n",
    "\n",
    "\n",
    "        alphabet_string = []\n",
    "        for j in range(len(line)):\n",
    "            alphabet_string.append(line[j])\n",
    "\n",
    "        zero_line[1:9] = alphabet_string\n",
    "        self._row[0] = zero_line\n",
    "        self._row[9] = zero_line\n",
    "\n",
    "        for _ in self._row:\n",
    "            self._row\n",
    "        \n",
    "\n",
    "\n",
    "board = Board()\n",
    "board._row"
   ]
  },
  {
   "cell_type": "markdown",
   "metadata": {},
   "source": []
  },
  {
   "cell_type": "code",
   "execution_count": 135,
   "metadata": {},
   "outputs": [
    {
     "name": "stdout",
     "output_type": "stream",
     "text": [
      "0 A B C D E F G H 0\n",
      "1 - - - - - - - - 1\n",
      "2 - - - - - - - - 2\n",
      "3 - - - - - - - - 3\n",
      "4 - - - ⚪️ ⚫️ - - - 4\n",
      "5 - - - ⚫️ ⚪️ - - - 5\n",
      "6 - - - - - - - - 6\n",
      "7 - - - - - - - - 7\n",
      "8 - - - - - - - - 8\n",
      "0 A B C D E F G H 0\n"
     ]
    }
   ],
   "source": [
    "row = []\n",
    "x = 10\n",
    "\n",
    "for i in range(x):\n",
    "    row.append([])\n",
    "    for j in range(x):\n",
    "        row[i].append(\"-\")\n",
    "        row[i][0] = i\n",
    "    for t in range(x):\n",
    "        row[i][j] = i\n",
    "\n",
    "zero_line = []\n",
    "for i in range(x):\n",
    "    zero_line.append(0)\n",
    "\n",
    "\n",
    "alphabet_string = []\n",
    "for j in range(len(line)):\n",
    "    alphabet_string.append(line[j])\n",
    "\n",
    "zero_line[1:9] = alphabet_string\n",
    "row[0] = zero_line\n",
    "row[9] = zero_line\n",
    "\n",
    "row[4][4] = \"⚪️\"\n",
    "row[5][5] = \"⚪️\"\n",
    "row[4][5] = \"⚫️\"\n",
    "row[5][4] = \"⚫️\"\n",
    "\n",
    "for _ in row:\n",
    "    print(*_)\n",
    "\n",
    "\n",
    "\n"
   ]
  },
  {
   "cell_type": "code",
   "execution_count": null,
   "metadata": {},
   "outputs": [],
   "source": []
  }
 ],
 "metadata": {
  "kernelspec": {
   "display_name": "Python 3",
   "language": "python",
   "name": "python3"
  },
  "language_info": {
   "codemirror_mode": {
    "name": "ipython",
    "version": 3
   },
   "file_extension": ".py",
   "mimetype": "text/x-python",
   "name": "python",
   "nbconvert_exporter": "python",
   "pygments_lexer": "ipython3",
   "version": "3.12.0"
  }
 },
 "nbformat": 4,
 "nbformat_minor": 2
}
