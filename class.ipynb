{
 "cells": [
  {
   "cell_type": "code",
   "execution_count": 3,
   "metadata": {},
   "outputs": [
    {
     "name": "stdout",
     "output_type": "stream",
     "text": [
      "0\n",
      "1\n"
     ]
    }
   ],
   "source": [
    "class Situation():\n",
    "    \"\"\"\n",
    "    盤面の情報を持つクラス\n",
    "    ターン情報：\n",
    "        何ターン目か\n",
    "        先手のターンか\n",
    "        後手のターンか\n",
    "        先手の色情報；⚪️白\n",
    "        後手の色情報：⚫️黒\n",
    "    situatonインスタンスが更新されて呼ばれるたびに新しい情報を出力する\n",
    "    \"\"\"\n",
    "    def __init__(self):\n",
    "        self.turn_count = 0\n",
    "\n",
    "situ = Situation()\n",
    "print(situ.turn_count)\n",
    "situ.turn_count += 1\n",
    "print(situ.turn_count)\n"
   ]
  },
  {
   "cell_type": "code",
   "execution_count": null,
   "metadata": {},
   "outputs": [],
   "source": []
  }
 ],
 "metadata": {
  "kernelspec": {
   "display_name": ".venv",
   "language": "python",
   "name": ".venv"
  },
  "language_info": {
   "codemirror_mode": {
    "name": "ipython",
    "version": 3
   },
   "file_extension": ".py",
   "mimetype": "text/x-python",
   "name": "python",
   "nbconvert_exporter": "python",
   "pygments_lexer": "ipython3",
   "version": "3.13.2"
  }
 },
 "nbformat": 4,
 "nbformat_minor": 2
}
